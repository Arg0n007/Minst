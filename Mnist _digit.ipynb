{
 "cells": [
  {
   "cell_type": "code",
   "execution_count": 1,
   "metadata": {},
   "outputs": [],
   "source": [
    "###### Mnist Digit Recognizer ######\n",
    "\n",
    "# Importing Libraries\n",
    "import pandas as pd\n",
    "import matplotlib.pyplot as plt\n",
    "import numpy as np\n",
    "%matplotlib inline\n",
    "import seaborn as sns"
   ]
  },
  {
   "cell_type": "code",
   "execution_count": 2,
   "metadata": {},
   "outputs": [
    {
     "data": {
      "text/plain": [
       "<matplotlib.image.AxesImage at 0x7f335af26a10>"
      ]
     },
     "execution_count": 2,
     "metadata": {},
     "output_type": "execute_result"
    },
    {
     "data": {
      "image/png": "[encoded data removed]",
      "text/plain": [
       "<matplotlib.figure.Figure at 0x7f335b535410>"
      ]
     },
     "metadata": {},
     "output_type": "display_data"
    }
   ],
   "source": [
    "dataset_train = pd.read_csv('train.csv')\n",
    "x_train1 = dataset_train.iloc[:,1:].values/255.\n",
    "y_train1 = dataset_train.iloc[:,0:1].values\n",
    "x_train1 = x_train1.reshape(-1,28,28,1)\n",
    "plt.imshow(x_train1[5][:,:,0])"
   ]
  },
  {
   "cell_type": "code",
   "execution_count": 3,
   "metadata": {},
   "outputs": [],
   "source": [
    "from sklearn.preprocessing import OneHotEncoder"
   ]
  },
  {
   "cell_type": "code",
   "execution_count": 4,
   "metadata": {},
   "outputs": [],
   "source": [
    "on =OneHotEncoder(categorical_features=[0])\n",
    "y_train1 = on.fit_transform(y_train1).toarray()"
   ]
  },
  {
   "cell_type": "code",
   "execution_count": 5,
   "metadata": {},
   "outputs": [],
   "source": [
    "from sklearn.model_selection import train_test_split\n",
    "x_train , x_test,y_train,y_test = train_test_split(x_train1,y_train1,test_size=.10)"
   ]
  },
  {
   "cell_type": "code",
   "execution_count": null,
   "metadata": {},
   "outputs": [],
   "source": []
  },
  {
   "cell_type": "code",
   "execution_count": 6,
   "metadata": {},
   "outputs": [
    {
     "name": "stdout",
     "output_type": "stream",
     "text": [
      "<class 'pandas.core.frame.DataFrame'>\n",
      "RangeIndex: 42000 entries, 0 to 41999\n",
      "Columns: 785 entries, label to pixel783\n",
      "dtypes: int64(785)\n",
      "memory usage: 251.5 MB\n"
     ]
    }
   ],
   "source": [
    "dataset_train.info()"
   ]
  },
  {
   "cell_type": "code",
   "execution_count": 7,
   "metadata": {},
   "outputs": [
    {
     "name": "stderr",
     "output_type": "stream",
     "text": [
      "Using TensorFlow backend.\n"
     ]
    }
   ],
   "source": [
    "# Importing Dataset\n",
    "from keras.preprocessing.image import ImageDataGenerator"
   ]
  },
  {
   "cell_type": "code",
   "execution_count": 8,
   "metadata": {},
   "outputs": [],
   "source": [
    "train_datagen = ImageDataGenerator(shear_range=0.35,\n",
    "                                   zoom_range=0.2,\n",
    "                                   height_shift_range=.1,\n",
    "                                   rotation_range=10,\n",
    "                                   width_shift_range=.1)"
   ]
  },
  {
   "cell_type": "code",
   "execution_count": 9,
   "metadata": {},
   "outputs": [],
   "source": [
    "train_datagen.fit(x_train)"
   ]
  },
  {
   "cell_type": "code",
   "execution_count": null,
   "metadata": {},
   "outputs": [],
   "source": []
  },
  {
   "cell_type": "code",
   "execution_count": 10,
   "metadata": {},
   "outputs": [],
   "source": [
    "# Importing Libraries to build the CNN using Keras\n",
    "from keras import Sequential\n",
    "from keras.layers import Convolution2D\n",
    "from keras.layers import MaxPool2D\n",
    "from keras.layers import Dense\n",
    "from keras.layers import Flatten\n",
    "from keras.layers import Dropout\n",
    "import keras"
   ]
  },
  {
   "cell_type": "code",
   "execution_count": 11,
   "metadata": {},
   "outputs": [],
   "source": [
    "# importing Keras and required libraries\n",
    "\n",
    "from keras.models import Sequential\n",
    "from keras.layers import Dense\n",
    "from keras.layers import Conv2D\n",
    "from keras.layers import MaxPooling2D\n",
    "from keras.layers import Flatten\n",
    "from keras.layers import Dropout\n",
    "\n",
    "# Building the convolutional neural network\n",
    "\n",
    "classifier = Sequential()\n",
    "\n",
    "# Adding the first convolution layer\n",
    "\n",
    "classifier.add(Conv2D(32, (3, 3), input_shape=(28, 28, 1), activation='relu'))\n",
    "classifier.add(Conv2D(32, (3, 3), input_shape=(28, 28, 1), activation='relu'))\n",
    "\n",
    "\n",
    "# Pooling layer\n",
    "\n",
    "classifier.add(MaxPooling2D(pool_size=(2, 2)))\n",
    "\n",
    "classifier.add(Dropout(.1))\n",
    "\n",
    "# Adding the second convolution layer\n",
    "\n",
    "classifier.add(Conv2D(64, (3, 3), activation='relu'))\n",
    "classifier.add(Conv2D(64, (3, 3), activation='relu'))\n",
    "# 2nd Pooling layer\n",
    "\n",
    "classifier.add(MaxPooling2D(pool_size=(2, 2)))\n",
    "classifier.add(Dropout(.1))\n",
    "\n",
    "# adding the flattening layer\n",
    "\n",
    "classifier.add(Flatten())\n",
    "\n",
    "# Adding the ANN\n",
    "\n",
    "classifier.add(Dense(units=300, activation='relu'))\n",
    "classifier.add(Dropout(rate=0.1))\n",
    "classifier.add(Dense(units=150, activation='relu'))\n",
    "classifier.add(Dropout(rate=0.1))\n",
    "classifier.add(Dense(units=10, activation='softmax'))\n",
    "\n",
    "# Compiling the ANN\n",
    "\n",
    "classifier.compile(optimizer=keras.optimizers.Adam(), loss='categorical_crossentropy', metrics=['accuracy'])"
   ]
  },
  {
   "cell_type": "code",
   "execution_count": 12,
   "metadata": {},
   "outputs": [],
   "source": [
    "from keras.callbacks import ReduceLROnPlateau"
   ]
  },
  {
   "cell_type": "code",
   "execution_count": 13,
   "metadata": {},
   "outputs": [],
   "source": [
    "reduc_lr = ReduceLROnPlateau(monitor='val_acc',factor=0.2,patience=2,min_lr=0.001)"
   ]
  },
  {
   "cell_type": "code",
   "execution_count": null,
   "metadata": {},
   "outputs": [
    {
     "name": "stdout",
     "output_type": "stream",
     "text": [
      "Epoch 1/40\n",
      "610/945 [==================>...........] - ETA: 39s - loss: 0.5132 - acc: 0.8352"
     ]
    }
   ],
   "source": [
    "classifier.fit_generator(train_datagen.flow(x_train,y_train, batch_size=40),\n",
    "                              epochs =40, validation_data = (x_test,y_test), steps_per_epoch=x_train.shape[0]//40,callbacks=[reduc_lr])"
   ]
  },
  {
   "cell_type": "code",
   "execution_count": 13,
   "metadata": {},
   "outputs": [],
   "source": [
    "testing_data = pd.read_csv('test.csv')\n",
    "testing_data = testing_data.values/255.0\n",
    "testing_data = testing_data.reshape(-1,28,28,1)\n",
    "submission = classifier.predict(testing_data)\n",
    "\n",
    "# Maximum Probability Index\n",
    "\n",
    "submission = np.argmax(submission, axis = 1)\n",
    "submission = pd.Series(submission,name=\"Label\")\n",
    "\n",
    "submission = pd.concat([pd.Series(range(1,28001),name = \"ImageId\"),submission],axis = 1)\n",
    "\n",
    "submission.to_csv(\"mnist_pred.csv\",index=False)"
   ]
  },
  {
   "cell_type": "code",
   "execution_count": null,
   "metadata": {},
   "outputs": [],
   "source": []
  },
  {
   "cell_type": "code",
   "execution_count": null,
   "metadata": {},
   "outputs": [],
   "source": []
  }
 ],
 "metadata": {
  "kernelspec": {
   "display_name": "Python 2",
   "language": "python",
   "name": "python2"
  },
  "language_info": {
   "codemirror_mode": {
    "name": "ipython",
    "version": 2
   },
   "file_extension": ".py",
   "mimetype": "text/x-python",
   "name": "python",
   "nbconvert_exporter": "python",
   "pygments_lexer": "ipython2",
   "version": "2.7.14"
  }
 },
 "nbformat": 4,
 "nbformat_minor": 2
}
